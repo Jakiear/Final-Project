{
 "cells": [
  {
   "cell_type": "markdown",
   "metadata": {},
   "source": [
    "IMPORT LIBRARY"
   ]
  },
  {
   "cell_type": "code",
   "execution_count": 1,
   "metadata": {},
   "outputs": [],
   "source": [
    "import pandas as pd\n",
    "from sklearn.preprocessing import MinMaxScaler\n",
    "from sklearn.model_selection import train_test_split\n",
    "from sklearn.neighbors import KNeighborsClassifier\n",
    "from sklearn.metrics import accuracy_score"
   ]
  },
  {
   "cell_type": "markdown",
   "metadata": {},
   "source": [
    "LOAD DATASET"
   ]
  },
  {
   "cell_type": "code",
   "execution_count": 2,
   "metadata": {},
   "outputs": [
    {
     "data": {
      "text/html": [
       "<div>\n",
       "<style scoped>\n",
       "    .dataframe tbody tr th:only-of-type {\n",
       "        vertical-align: middle;\n",
       "    }\n",
       "\n",
       "    .dataframe tbody tr th {\n",
       "        vertical-align: top;\n",
       "    }\n",
       "\n",
       "    .dataframe thead th {\n",
       "        text-align: right;\n",
       "    }\n",
       "</style>\n",
       "<table border=\"1\" class=\"dataframe\">\n",
       "  <thead>\n",
       "    <tr style=\"text-align: right;\">\n",
       "      <th></th>\n",
       "      <th>umur</th>\n",
       "      <th>jk</th>\n",
       "      <th>tb</th>\n",
       "      <th>sg</th>\n",
       "    </tr>\n",
       "  </thead>\n",
       "  <tbody>\n",
       "    <tr>\n",
       "      <th>0</th>\n",
       "      <td>0</td>\n",
       "      <td>0</td>\n",
       "      <td>44.591973</td>\n",
       "      <td>1</td>\n",
       "    </tr>\n",
       "    <tr>\n",
       "      <th>1</th>\n",
       "      <td>0</td>\n",
       "      <td>0</td>\n",
       "      <td>56.705203</td>\n",
       "      <td>3</td>\n",
       "    </tr>\n",
       "    <tr>\n",
       "      <th>2</th>\n",
       "      <td>0</td>\n",
       "      <td>0</td>\n",
       "      <td>46.863358</td>\n",
       "      <td>2</td>\n",
       "    </tr>\n",
       "    <tr>\n",
       "      <th>3</th>\n",
       "      <td>0</td>\n",
       "      <td>0</td>\n",
       "      <td>47.508026</td>\n",
       "      <td>2</td>\n",
       "    </tr>\n",
       "    <tr>\n",
       "      <th>4</th>\n",
       "      <td>0</td>\n",
       "      <td>0</td>\n",
       "      <td>42.743494</td>\n",
       "      <td>0</td>\n",
       "    </tr>\n",
       "    <tr>\n",
       "      <th>...</th>\n",
       "      <td>...</td>\n",
       "      <td>...</td>\n",
       "      <td>...</td>\n",
       "      <td>...</td>\n",
       "    </tr>\n",
       "    <tr>\n",
       "      <th>120994</th>\n",
       "      <td>60</td>\n",
       "      <td>1</td>\n",
       "      <td>100.600000</td>\n",
       "      <td>2</td>\n",
       "    </tr>\n",
       "    <tr>\n",
       "      <th>120995</th>\n",
       "      <td>60</td>\n",
       "      <td>1</td>\n",
       "      <td>98.300000</td>\n",
       "      <td>1</td>\n",
       "    </tr>\n",
       "    <tr>\n",
       "      <th>120996</th>\n",
       "      <td>60</td>\n",
       "      <td>1</td>\n",
       "      <td>121.300000</td>\n",
       "      <td>2</td>\n",
       "    </tr>\n",
       "    <tr>\n",
       "      <th>120997</th>\n",
       "      <td>60</td>\n",
       "      <td>1</td>\n",
       "      <td>112.200000</td>\n",
       "      <td>2</td>\n",
       "    </tr>\n",
       "    <tr>\n",
       "      <th>120998</th>\n",
       "      <td>60</td>\n",
       "      <td>1</td>\n",
       "      <td>109.800000</td>\n",
       "      <td>2</td>\n",
       "    </tr>\n",
       "  </tbody>\n",
       "</table>\n",
       "<p>120999 rows × 4 columns</p>\n",
       "</div>"
      ],
      "text/plain": [
       "        umur  jk          tb  sg\n",
       "0          0   0   44.591973   1\n",
       "1          0   0   56.705203   3\n",
       "2          0   0   46.863358   2\n",
       "3          0   0   47.508026   2\n",
       "4          0   0   42.743494   0\n",
       "...      ...  ..         ...  ..\n",
       "120994    60   1  100.600000   2\n",
       "120995    60   1   98.300000   1\n",
       "120996    60   1  121.300000   2\n",
       "120997    60   1  112.200000   2\n",
       "120998    60   1  109.800000   2\n",
       "\n",
       "[120999 rows x 4 columns]"
      ]
     },
     "execution_count": 2,
     "metadata": {},
     "output_type": "execute_result"
    }
   ],
   "source": [
    "data = pd.read_csv('data_balita.csv')\n",
    "data"
   ]
  },
  {
   "cell_type": "code",
   "execution_count": 3,
   "metadata": {},
   "outputs": [
    {
     "name": "stdout",
     "output_type": "stream",
     "text": [
      "[1, 3, 2, 2, 0]\n"
     ]
    }
   ],
   "source": [
    "y_class = data['sg']\n",
    "y = y_class.values.tolist()\n",
    "print(y[:5])"
   ]
  },
  {
   "cell_type": "code",
   "execution_count": 4,
   "metadata": {},
   "outputs": [
    {
     "data": {
      "text/html": [
       "<div>\n",
       "<style scoped>\n",
       "    .dataframe tbody tr th:only-of-type {\n",
       "        vertical-align: middle;\n",
       "    }\n",
       "\n",
       "    .dataframe tbody tr th {\n",
       "        vertical-align: top;\n",
       "    }\n",
       "\n",
       "    .dataframe thead th {\n",
       "        text-align: right;\n",
       "    }\n",
       "</style>\n",
       "<table border=\"1\" class=\"dataframe\">\n",
       "  <thead>\n",
       "    <tr style=\"text-align: right;\">\n",
       "      <th></th>\n",
       "      <th>umur</th>\n",
       "      <th>jk</th>\n",
       "      <th>tb</th>\n",
       "    </tr>\n",
       "  </thead>\n",
       "  <tbody>\n",
       "    <tr>\n",
       "      <th>0</th>\n",
       "      <td>0</td>\n",
       "      <td>0</td>\n",
       "      <td>44.591973</td>\n",
       "    </tr>\n",
       "    <tr>\n",
       "      <th>1</th>\n",
       "      <td>0</td>\n",
       "      <td>0</td>\n",
       "      <td>56.705203</td>\n",
       "    </tr>\n",
       "    <tr>\n",
       "      <th>2</th>\n",
       "      <td>0</td>\n",
       "      <td>0</td>\n",
       "      <td>46.863358</td>\n",
       "    </tr>\n",
       "    <tr>\n",
       "      <th>3</th>\n",
       "      <td>0</td>\n",
       "      <td>0</td>\n",
       "      <td>47.508026</td>\n",
       "    </tr>\n",
       "    <tr>\n",
       "      <th>4</th>\n",
       "      <td>0</td>\n",
       "      <td>0</td>\n",
       "      <td>42.743494</td>\n",
       "    </tr>\n",
       "    <tr>\n",
       "      <th>...</th>\n",
       "      <td>...</td>\n",
       "      <td>...</td>\n",
       "      <td>...</td>\n",
       "    </tr>\n",
       "    <tr>\n",
       "      <th>120994</th>\n",
       "      <td>60</td>\n",
       "      <td>1</td>\n",
       "      <td>100.600000</td>\n",
       "    </tr>\n",
       "    <tr>\n",
       "      <th>120995</th>\n",
       "      <td>60</td>\n",
       "      <td>1</td>\n",
       "      <td>98.300000</td>\n",
       "    </tr>\n",
       "    <tr>\n",
       "      <th>120996</th>\n",
       "      <td>60</td>\n",
       "      <td>1</td>\n",
       "      <td>121.300000</td>\n",
       "    </tr>\n",
       "    <tr>\n",
       "      <th>120997</th>\n",
       "      <td>60</td>\n",
       "      <td>1</td>\n",
       "      <td>112.200000</td>\n",
       "    </tr>\n",
       "    <tr>\n",
       "      <th>120998</th>\n",
       "      <td>60</td>\n",
       "      <td>1</td>\n",
       "      <td>109.800000</td>\n",
       "    </tr>\n",
       "  </tbody>\n",
       "</table>\n",
       "<p>120999 rows × 3 columns</p>\n",
       "</div>"
      ],
      "text/plain": [
       "        umur  jk          tb\n",
       "0          0   0   44.591973\n",
       "1          0   0   56.705203\n",
       "2          0   0   46.863358\n",
       "3          0   0   47.508026\n",
       "4          0   0   42.743494\n",
       "...      ...  ..         ...\n",
       "120994    60   1  100.600000\n",
       "120995    60   1   98.300000\n",
       "120996    60   1  121.300000\n",
       "120997    60   1  112.200000\n",
       "120998    60   1  109.800000\n",
       "\n",
       "[120999 rows x 3 columns]"
      ]
     },
     "execution_count": 4,
     "metadata": {},
     "output_type": "execute_result"
    }
   ],
   "source": [
    "x = data.drop(columns='sg')\n",
    "x"
   ]
  },
  {
   "cell_type": "markdown",
   "metadata": {},
   "source": [
    "NORMALISASI DATA"
   ]
  },
  {
   "cell_type": "code",
   "execution_count": 5,
   "metadata": {},
   "outputs": [
    {
     "data": {
      "text/plain": [
       "['norm.sav']"
      ]
     },
     "execution_count": 5,
     "metadata": {},
     "output_type": "execute_result"
    }
   ],
   "source": [
    "scaler = MinMaxScaler()\n",
    "scaled = scaler.fit_transform(x)\n",
    "nama_fitur = x.columns.copy()\n",
    "scaled_fitur = pd.DataFrame(scaled,columns=nama_fitur)\n",
    "scaled_fitur\n",
    "\n",
    "import joblib\n",
    "filename = 'norm.sav'\n",
    "joblib.dump(scaler, filename)"
   ]
  },
  {
   "cell_type": "markdown",
   "metadata": {},
   "source": [
    "MEMISAHKAN DATA TRAINING DAN TESTING"
   ]
  },
  {
   "cell_type": "code",
   "execution_count": 6,
   "metadata": {},
   "outputs": [],
   "source": [
    "from pathlib import Path  \n",
    "x_train, x_test, y_train, y_test=train_test_split(x, y, test_size=0.2, random_state=1)\n",
    "# save data test\n",
    "\n",
    "filepath = Path('data_test.csv')  \n",
    "filepath.parent.mkdir(parents=True, exist_ok=True) \n",
    "x_test.to_csv(filepath)"
   ]
  },
  {
   "cell_type": "markdown",
   "metadata": {},
   "source": [
    "MEMBUAT MODEL TRAINING"
   ]
  },
  {
   "cell_type": "code",
   "execution_count": 7,
   "metadata": {},
   "outputs": [
    {
     "data": {
      "text/plain": [
       "{1: 0.9986776859504132,\n",
       " 2: 0.997603305785124,\n",
       " 3: 0.9964462809917355,\n",
       " 4: 0.9958677685950413,\n",
       " 5: 0.9957438016528926,\n",
       " 6: 0.9952066115702479,\n",
       " 7: 0.9947933884297521,\n",
       " 8: 0.9947107438016529,\n",
       " 9: 0.9948760330578512,\n",
       " 10: 0.9946280991735538,\n",
       " 11: 0.9940082644628099,\n",
       " 12: 0.9938842975206612,\n",
       " 13: 0.9937603305785124,\n",
       " 14: 0.9935123966942149,\n",
       " 15: 0.993801652892562,\n",
       " 16: 0.9935123966942149,\n",
       " 17: 0.9931818181818182,\n",
       " 18: 0.9929338842975206,\n",
       " 19: 0.9925619834710744,\n",
       " 20: 0.992190082644628,\n",
       " 21: 0.9916528925619835,\n",
       " 22: 0.9917768595041322,\n",
       " 23: 0.9913223140495868,\n",
       " 24: 0.9915702479338843,\n",
       " 25: 0.9919421487603306,\n",
       " 26: 0.9912809917355372,\n",
       " 27: 0.9912809917355372,\n",
       " 28: 0.9913636363636363,\n",
       " 29: 0.9912396694214876,\n",
       " 30: 0.9907024793388429}"
      ]
     },
     "execution_count": 7,
     "metadata": {},
     "output_type": "execute_result"
    }
   ],
   "source": [
    "k_range = range(1,31)\n",
    "scores = {}\n",
    "scores_list = []\n",
    "for k in k_range:\n",
    "        knn = KNeighborsClassifier(n_neighbors=k)\n",
    "        knn.fit(x_train,y_train)\n",
    "        # save model\n",
    "        filenameKNN = 'modelKNN'+str(1)+'.pkl'\n",
    "        joblib.dump(knn,filenameKNN)\n",
    "        y_pred=knn.predict(x_test)\n",
    "        scores[k] = accuracy_score(y_test,y_pred)\n",
    "        scores_list.append(accuracy_score(y_test,y_pred))\n",
    "scores"
   ]
  },
  {
   "cell_type": "code",
   "execution_count": 8,
   "metadata": {},
   "outputs": [
    {
     "data": {
      "text/plain": [
       "(1, 0.9986776859504132)"
      ]
     },
     "execution_count": 8,
     "metadata": {},
     "output_type": "execute_result"
    }
   ],
   "source": [
    "scores_list.index(max(scores_list))+1 , max(scores_list)"
   ]
  },
  {
   "cell_type": "markdown",
   "metadata": {},
   "source": [
    "MODEL EVALUASI UNTUK MENGUKUR TINGKAT AKURASI"
   ]
  },
  {
   "cell_type": "code",
   "execution_count": 9,
   "metadata": {},
   "outputs": [
    {
     "name": "stdout",
     "output_type": "stream",
     "text": [
      "Akurasi data training: 0.9941218401016539\n"
     ]
    }
   ],
   "source": [
    "x_train_pred = knn.predict(x_train)\n",
    "accuracy = accuracy_score(y_train, x_train_pred)\n",
    "print('Akurasi data training:', accuracy)"
   ]
  },
  {
   "cell_type": "code",
   "execution_count": 10,
   "metadata": {},
   "outputs": [
    {
     "name": "stdout",
     "output_type": "stream",
     "text": [
      "Akurasi data testing: 0.9907024793388429\n"
     ]
    }
   ],
   "source": [
    "x_test_pred = knn.predict(x_test)\n",
    "accuracy_test = accuracy_score(y_test, x_test_pred)\n",
    "print('Akurasi data testing:', accuracy_test)"
   ]
  },
  }
 ],
 "metadata": {
  "kernelspec": {
   "display_name": "Python 3",
   "language": "python",
   "name": "python3"
  },
  "language_info": {
   "codemirror_mode": {
    "name": "ipython",
    "version": 3
   },
   "file_extension": ".py",
   "mimetype": "text/x-python",
   "name": "python",
   "nbconvert_exporter": "python",
   "pygments_lexer": "ipython3",
   "version": "3.12.3"
  }
 },
 "nbformat": 4,
 "nbformat_minor": 2
}
